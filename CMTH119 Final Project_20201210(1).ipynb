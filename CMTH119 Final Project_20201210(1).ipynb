{
 "cells": [
  {
   "cell_type": "code",
   "execution_count": 644,
   "metadata": {},
   "outputs": [],
   "source": [
    "import sklearn as sk\n",
    "import pandas as pd\n",
    "import matplotlib.pyplot as plt\n",
    "import seaborn as sns\n",
    "import numpy as np\n",
    "\n",
    "from sklearn import preprocessing\n",
    "from sklearn import tree\n",
    "from sklearn.preprocessing import LabelEncoder\n",
    "from sklearn.model_selection import train_test_split\n",
    "from sklearn.naive_bayes import GaussianNB\n",
    "from sklearn.metrics import accuracy_score\n",
    "from sklearn.metrics import classification_report"
   ]
  },
  {
   "cell_type": "code",
   "execution_count": 646,
   "metadata": {},
   "outputs": [],
   "source": [
    "df = pd.read_csv(\"/Users/eden_zoo/Desktop/CMTH119 Introduction to Big Data/Final Project/project_datasets/customer_churn/churn.csv\")"
   ]
  },
  {
   "cell_type": "markdown",
   "metadata": {},
   "source": [
    "## Data Preparation"
   ]
  },
  {
   "cell_type": "code",
   "execution_count": 647,
   "metadata": {},
   "outputs": [
    {
     "data": {
      "text/plain": [
       "{'State': dtype('O'),\n",
       " 'Account Length': dtype('int64'),\n",
       " 'Area Code': dtype('int64'),\n",
       " 'Phone': dtype('O'),\n",
       " \"Int'l Plan\": dtype('O'),\n",
       " 'VMail Plan': dtype('O'),\n",
       " 'VMail Message': dtype('int64'),\n",
       " 'Day Mins': dtype('float64'),\n",
       " 'Day Calls': dtype('int64'),\n",
       " 'Day Charge': dtype('float64'),\n",
       " 'Eve Mins': dtype('float64'),\n",
       " 'Eve Calls': dtype('int64'),\n",
       " 'Eve Charge': dtype('float64'),\n",
       " 'Night Mins': dtype('float64'),\n",
       " 'Night Calls': dtype('int64'),\n",
       " 'Night Charge': dtype('float64'),\n",
       " 'Intl Mins': dtype('float64'),\n",
       " 'Intl Calls': dtype('int64'),\n",
       " 'Intl Charge': dtype('float64'),\n",
       " 'CustServ Calls': dtype('int64'),\n",
       " 'Churn?': dtype('O')}"
      ]
     },
     "execution_count": 647,
     "metadata": {},
     "output_type": "execute_result"
    }
   ],
   "source": [
    "# find categorical variable which data type is 'O' form dictionary\n",
    "dict(df.dtypes)"
   ]
  },
  {
   "cell_type": "code",
   "execution_count": 648,
   "metadata": {},
   "outputs": [
    {
     "data": {
      "text/html": [
       "<div>\n",
       "<style scoped>\n",
       "    .dataframe tbody tr th:only-of-type {\n",
       "        vertical-align: middle;\n",
       "    }\n",
       "\n",
       "    .dataframe tbody tr th {\n",
       "        vertical-align: top;\n",
       "    }\n",
       "\n",
       "    .dataframe thead th {\n",
       "        text-align: right;\n",
       "    }\n",
       "</style>\n",
       "<table border=\"1\" class=\"dataframe\">\n",
       "  <thead>\n",
       "    <tr style=\"text-align: right;\">\n",
       "      <th></th>\n",
       "      <th>State</th>\n",
       "      <th>Account Length</th>\n",
       "      <th>Area Code</th>\n",
       "      <th>Phone</th>\n",
       "      <th>Int'l Plan</th>\n",
       "      <th>VMail Plan</th>\n",
       "      <th>VMail Message</th>\n",
       "      <th>Day Mins</th>\n",
       "      <th>Day Calls</th>\n",
       "      <th>Day Charge</th>\n",
       "      <th>...</th>\n",
       "      <th>Eve Calls</th>\n",
       "      <th>Eve Charge</th>\n",
       "      <th>Night Mins</th>\n",
       "      <th>Night Calls</th>\n",
       "      <th>Night Charge</th>\n",
       "      <th>Intl Mins</th>\n",
       "      <th>Intl Calls</th>\n",
       "      <th>Intl Charge</th>\n",
       "      <th>CustServ Calls</th>\n",
       "      <th>Churn?</th>\n",
       "    </tr>\n",
       "  </thead>\n",
       "  <tbody>\n",
       "  </tbody>\n",
       "</table>\n",
       "<p>0 rows × 21 columns</p>\n",
       "</div>"
      ],
      "text/plain": [
       "Empty DataFrame\n",
       "Columns: [State, Account Length, Area Code, Phone, Int'l Plan, VMail Plan, VMail Message, Day Mins, Day Calls, Day Charge, Eve Mins, Eve Calls, Eve Charge, Night Mins, Night Calls, Night Charge, Intl Mins, Intl Calls, Intl Charge, CustServ Calls, Churn?]\n",
       "Index: []\n",
       "\n",
       "[0 rows x 21 columns]"
      ]
     },
     "execution_count": 648,
     "metadata": {},
     "output_type": "execute_result"
    }
   ],
   "source": [
    "df.describe()\n",
    "df.shape\n",
    "\n",
    "df.isnull().sum()\n",
    "df.isna().sum()\n",
    "df[df.duplicated()]"
   ]
  },
  {
   "cell_type": "markdown",
   "metadata": {},
   "source": [
    "### Plot for column 'churn' and get churn rate."
   ]
  },
  {
   "cell_type": "code",
   "execution_count": 649,
   "metadata": {},
   "outputs": [
    {
     "name": "stdout",
     "output_type": "stream",
     "text": [
      "False.    2850\n",
      "True.      483\n",
      "Name: Churn?, dtype: int64\n"
     ]
    },
    {
     "data": {
      "text/plain": [
       "<matplotlib.axes._subplots.AxesSubplot at 0x7f9d02637208>"
      ]
     },
     "execution_count": 649,
     "metadata": {},
     "output_type": "execute_result"
    },
    {
     "data": {
      "image/png": "[encoded data removed]",
      "text/plain": [
       "<Figure size 432x288 with 1 Axes>"
      ]
     },
     "metadata": {},
     "output_type": "display_data"
    }
   ],
   "source": [
    "y = df['Churn?'].value_counts()\n",
    "print(y)\n",
    "sns.barplot(y.index, y.values)"
   ]
  },
  {
   "cell_type": "code",
   "execution_count": 650,
   "metadata": {},
   "outputs": [
    {
     "name": "stdout",
     "output_type": "stream",
     "text": [
      "Churn Rate: 14.491449144914492\n"
     ]
    }
   ],
   "source": [
    "churn_rate = (y[1] / df.shape[0])*100\n",
    "print('Churn Rate:', churn_rate)"
   ]
  },
  {
   "cell_type": "markdown",
   "metadata": {},
   "source": [
    "### Label Encoding for Categorical Variables"
   ]
  },
  {
   "cell_type": "code",
   "execution_count": 651,
   "metadata": {},
   "outputs": [
    {
     "name": "stdout",
     "output_type": "stream",
     "text": [
      "The categorical variables are :\n",
      "\n",
      " ['State', \"Int'l Plan\", 'VMail Plan', 'Churn?', 'Area Code']\n",
      "The numerical variables are :\n",
      "\n",
      " ['Account Length', 'VMail Message', 'Day Mins', 'Day Calls', 'Day Charge', 'Eve Mins', 'Eve Calls', 'Eve Charge', 'Night Mins', 'Night Calls', 'Night Charge', 'Intl Mins', 'Intl Calls', 'Intl Charge', 'CustServ Calls']\n"
     ]
    }
   ],
   "source": [
    "df = df.drop(['Phone'], axis = 1)\n",
    "\n",
    "categorical = [i for i in dict(df.dtypes) if dict(df.dtypes)[i] in ['O']]\n",
    "categorical.append('Area Code')\n",
    "print('The categorical variables are :\\n\\n', categorical)\n",
    "\n",
    "df_numerical=df.drop(categorical,axis=1)\n",
    "numerical = [i for i in dict(df.dtypes) if dict(df.dtypes)[i]!='O']\n",
    "numerical.remove('Area Code')\n",
    "print('The numerical variables are :\\n\\n', numerical)"
   ]
  },
  {
   "cell_type": "code",
   "execution_count": 665,
   "metadata": {},
   "outputs": [
    {
     "data": {
      "text/html": [
       "<div>\n",
       "<style scoped>\n",
       "    .dataframe tbody tr th:only-of-type {\n",
       "        vertical-align: middle;\n",
       "    }\n",
       "\n",
       "    .dataframe tbody tr th {\n",
       "        vertical-align: top;\n",
       "    }\n",
       "\n",
       "    .dataframe thead th {\n",
       "        text-align: right;\n",
       "    }\n",
       "</style>\n",
       "<table border=\"1\" class=\"dataframe\">\n",
       "  <thead>\n",
       "    <tr style=\"text-align: right;\">\n",
       "      <th></th>\n",
       "      <th>State</th>\n",
       "      <th>Account Length</th>\n",
       "      <th>Area Code</th>\n",
       "      <th>Int'l Plan</th>\n",
       "      <th>VMail Plan</th>\n",
       "      <th>VMail Message</th>\n",
       "      <th>Day Mins</th>\n",
       "      <th>Day Calls</th>\n",
       "      <th>Day Charge</th>\n",
       "      <th>Eve Mins</th>\n",
       "      <th>Eve Calls</th>\n",
       "      <th>Eve Charge</th>\n",
       "      <th>Night Mins</th>\n",
       "      <th>Night Calls</th>\n",
       "      <th>Night Charge</th>\n",
       "      <th>Intl Mins</th>\n",
       "      <th>Intl Calls</th>\n",
       "      <th>Intl Charge</th>\n",
       "      <th>CustServ Calls</th>\n",
       "      <th>Churn?</th>\n",
       "    </tr>\n",
       "  </thead>\n",
       "  <tbody>\n",
       "    <tr>\n",
       "      <th>0</th>\n",
       "      <td>16</td>\n",
       "      <td>128</td>\n",
       "      <td>1</td>\n",
       "      <td>0</td>\n",
       "      <td>1</td>\n",
       "      <td>25</td>\n",
       "      <td>265.1</td>\n",
       "      <td>110</td>\n",
       "      <td>45.07</td>\n",
       "      <td>197.4</td>\n",
       "      <td>99</td>\n",
       "      <td>16.78</td>\n",
       "      <td>244.7</td>\n",
       "      <td>91</td>\n",
       "      <td>11.01</td>\n",
       "      <td>10.0</td>\n",
       "      <td>3</td>\n",
       "      <td>2.70</td>\n",
       "      <td>1</td>\n",
       "      <td>0</td>\n",
       "    </tr>\n",
       "    <tr>\n",
       "      <th>1</th>\n",
       "      <td>35</td>\n",
       "      <td>107</td>\n",
       "      <td>1</td>\n",
       "      <td>0</td>\n",
       "      <td>1</td>\n",
       "      <td>26</td>\n",
       "      <td>161.6</td>\n",
       "      <td>123</td>\n",
       "      <td>27.47</td>\n",
       "      <td>195.5</td>\n",
       "      <td>103</td>\n",
       "      <td>16.62</td>\n",
       "      <td>254.4</td>\n",
       "      <td>103</td>\n",
       "      <td>11.45</td>\n",
       "      <td>13.7</td>\n",
       "      <td>3</td>\n",
       "      <td>3.70</td>\n",
       "      <td>1</td>\n",
       "      <td>0</td>\n",
       "    </tr>\n",
       "    <tr>\n",
       "      <th>2</th>\n",
       "      <td>31</td>\n",
       "      <td>137</td>\n",
       "      <td>1</td>\n",
       "      <td>0</td>\n",
       "      <td>0</td>\n",
       "      <td>0</td>\n",
       "      <td>243.4</td>\n",
       "      <td>114</td>\n",
       "      <td>41.38</td>\n",
       "      <td>121.2</td>\n",
       "      <td>110</td>\n",
       "      <td>10.30</td>\n",
       "      <td>162.6</td>\n",
       "      <td>104</td>\n",
       "      <td>7.32</td>\n",
       "      <td>12.2</td>\n",
       "      <td>5</td>\n",
       "      <td>3.29</td>\n",
       "      <td>0</td>\n",
       "      <td>0</td>\n",
       "    </tr>\n",
       "    <tr>\n",
       "      <th>3</th>\n",
       "      <td>35</td>\n",
       "      <td>84</td>\n",
       "      <td>0</td>\n",
       "      <td>1</td>\n",
       "      <td>0</td>\n",
       "      <td>0</td>\n",
       "      <td>299.4</td>\n",
       "      <td>71</td>\n",
       "      <td>50.90</td>\n",
       "      <td>61.9</td>\n",
       "      <td>88</td>\n",
       "      <td>5.26</td>\n",
       "      <td>196.9</td>\n",
       "      <td>89</td>\n",
       "      <td>8.86</td>\n",
       "      <td>6.6</td>\n",
       "      <td>7</td>\n",
       "      <td>1.78</td>\n",
       "      <td>2</td>\n",
       "      <td>0</td>\n",
       "    </tr>\n",
       "    <tr>\n",
       "      <th>4</th>\n",
       "      <td>36</td>\n",
       "      <td>75</td>\n",
       "      <td>1</td>\n",
       "      <td>1</td>\n",
       "      <td>0</td>\n",
       "      <td>0</td>\n",
       "      <td>166.7</td>\n",
       "      <td>113</td>\n",
       "      <td>28.34</td>\n",
       "      <td>148.3</td>\n",
       "      <td>122</td>\n",
       "      <td>12.61</td>\n",
       "      <td>186.9</td>\n",
       "      <td>121</td>\n",
       "      <td>8.41</td>\n",
       "      <td>10.1</td>\n",
       "      <td>3</td>\n",
       "      <td>2.73</td>\n",
       "      <td>3</td>\n",
       "      <td>0</td>\n",
       "    </tr>\n",
       "  </tbody>\n",
       "</table>\n",
       "</div>"
      ],
      "text/plain": [
       "   State  Account Length  Area Code  Int'l Plan  VMail Plan  VMail Message  \\\n",
       "0     16             128          1           0           1             25   \n",
       "1     35             107          1           0           1             26   \n",
       "2     31             137          1           0           0              0   \n",
       "3     35              84          0           1           0              0   \n",
       "4     36              75          1           1           0              0   \n",
       "\n",
       "   Day Mins  Day Calls  Day Charge  Eve Mins  Eve Calls  Eve Charge  \\\n",
       "0     265.1        110       45.07     197.4         99       16.78   \n",
       "1     161.6        123       27.47     195.5        103       16.62   \n",
       "2     243.4        114       41.38     121.2        110       10.30   \n",
       "3     299.4         71       50.90      61.9         88        5.26   \n",
       "4     166.7        113       28.34     148.3        122       12.61   \n",
       "\n",
       "   Night Mins  Night Calls  Night Charge  Intl Mins  Intl Calls  Intl Charge  \\\n",
       "0       244.7           91         11.01       10.0           3         2.70   \n",
       "1       254.4          103         11.45       13.7           3         3.70   \n",
       "2       162.6          104          7.32       12.2           5         3.29   \n",
       "3       196.9           89          8.86        6.6           7         1.78   \n",
       "4       186.9          121          8.41       10.1           3         2.73   \n",
       "\n",
       "   CustServ Calls  Churn?  \n",
       "0               1       0  \n",
       "1               1       0  \n",
       "2               0       0  \n",
       "3               2       0  \n",
       "4               3       0  "
      ]
     },
     "execution_count": 665,
     "metadata": {},
     "output_type": "execute_result"
    }
   ],
   "source": [
    "le = preprocessing.LabelEncoder()\n",
    "for i in categorical: \n",
    "    le.fit(df[i])\n",
    "    df[i] = le.transform(df[i])\n",
    "df.head(5)"
   ]
  },
  {
   "cell_type": "code",
   "execution_count": 666,
   "metadata": {},
   "outputs": [
    {
     "data": {
      "text/plain": [
       "array([16, 35, 31, 36,  1, 19, 24, 18, 49, 15, 39, 12, 26, 34, 13, 46, 45,\n",
       "       43,  9,  5,  3, 40, 29, 50, 11, 14, 30, 10,  0, 20,  2, 48, 37, 22,\n",
       "        8, 44,  4, 23, 41, 27, 47, 32, 33,  7, 17, 21, 25, 42, 38,  6, 28])"
      ]
     },
     "execution_count": 666,
     "metadata": {},
     "output_type": "execute_result"
    }
   ],
   "source": [
    "df['State'].unique()"
   ]
  },
  {
   "cell_type": "markdown",
   "metadata": {},
   "source": [
    "### Correlation Matrix"
   ]
  },
  {
   "cell_type": "code",
   "execution_count": 668,
   "metadata": {},
   "outputs": [
    {
     "data": {
      "text/plain": [
       "<matplotlib.axes._subplots.AxesSubplot at 0x7f9d016b21d0>"
      ]
     },
     "execution_count": 668,
     "metadata": {},
     "output_type": "execute_result"
    },
    {
     "data": {
      "image/png": "[encoded data removed]",
      "text/plain": [
       "<Figure size 720x720 with 2 Axes>"
      ]
     },
     "metadata": {},
     "output_type": "display_data"
    }
   ],
   "source": [
    "fig = plt.figure(figsize=(10,10))\n",
    "corr = df.corr(method = 'pearson')\n",
    "# plot\n",
    "sns.heatmap(corr, vmax = 1, square = True)"
   ]
  },
  {
   "cell_type": "markdown",
   "metadata": {},
   "source": [
    "## Develop Classification Models - Decision Tree versus Gaussian Naive Bayes"
   ]
  },
  {
   "cell_type": "markdown",
   "metadata": {},
   "source": [
    "Split dataset into training set and test set"
   ]
  },
  {
   "cell_type": "code",
   "execution_count": 679,
   "metadata": {},
   "outputs": [],
   "source": [
    "x=df.drop(['Churn?'],axis=1)\n",
    "feature = df[df.columns[df.columns != 'Churn?']]\n",
    "y=df['Churn?']"
   ]
  },
  {
   "cell_type": "code",
   "execution_count": 680,
   "metadata": {},
   "outputs": [],
   "source": [
    "#X_train, X_test, y_train, y_test = train_test_split(, df['Churn?'],, test_size = 0.3,  stratify = y, random_state = 1)\n",
    "X_train, X_test, y_train, y_test = train_test_split(x,df['Churn?'], test_size = 0.2,stratify = y,random_state = 1)"
   ]
  },
  {
   "cell_type": "code",
   "execution_count": 681,
   "metadata": {},
   "outputs": [
    {
     "data": {
      "text/plain": [
       "((2666, 19), (667, 19))"
      ]
     },
     "execution_count": 681,
     "metadata": {},
     "output_type": "execute_result"
    }
   ],
   "source": [
    "X_train.shape, X_test.shape"
   ]
  },
  {
   "cell_type": "code",
   "execution_count": 684,
   "metadata": {},
   "outputs": [
    {
     "name": "stdout",
     "output_type": "stream",
     "text": [
      "[[532  38]\n",
      " [ 26  71]]\n",
      "TP:  71 , FP:  38 , TN:  532 , FN: 26\n",
      "Training-set accuracy score: 1.0000\n",
      "Model accuracy score: 0.9040\n",
      "Precision : 0.6514\n",
      "Recall : 0.7320\n",
      "f1score : 0.6893\n",
      "              precision    recall  f1-score   support\n",
      "\n",
      "           0       0.95      0.93      0.94       570\n",
      "           1       0.65      0.73      0.69        97\n",
      "\n",
      "    accuracy                           0.90       667\n",
      "   macro avg       0.80      0.83      0.82       667\n",
      "weighted avg       0.91      0.90      0.91       667\n",
      "\n"
     ]
    }
   ],
   "source": [
    "#decision tree\n",
    "feature = df[df.columns[df.columns != 'Churn?']]\n",
    "# 70% training and 30% test, *random_state = 1*, stratified\n",
    "\n",
    "clf = tree.DecisionTreeClassifier()\n",
    "clf = clf.fit(X_train, y_train)\n",
    "\n",
    "fig = plt.figure(figsize=(25,20))\n",
    "decisiontree_baseline = tree.plot_tree(clf, \n",
    "                              feature_names = df.columns[df.columns != 'Churn?'], \n",
    "                              class_names= [\"0\", \"1\"],\n",
    "                              filled=True)\n",
    "plt.savefig(\"decistion_tree_baseline.pdf\")\n",
    "\n",
    "y_pred_train_dt_bl= clf.predict(X_train)\n",
    "y_pred_test_dt_bl= clf.predict(X_test)\n",
    "\n",
    "cf_dt_bl = sk.metrics.confusion_matrix(y_test, y_pred_test_dt_bl)\n",
    "print(cf_dt_bl)\n",
    "tn, fp, fn, tp=cf_dt_bl.ravel()\n",
    "print (\"TP: \", tp,\", FP: \", fp,\", TN: \", tn,\", FN:\", fn)\n",
    "\n",
    "print('Training-set accuracy score: {0:0.4f}'. format(accuracy_score(y_train, y_pred_train_dt_bl)))\n",
    "print('Model accuracy score: {0:0.4f}'. format(accuracy_score(y_test, y_pred_test_dt_bl)))\n",
    "precision = tp / float(tp + fp)\n",
    "print('Precision : {0:0.4f}'.format(precision))\n",
    "recall = tp / float(tp + fn)\n",
    "print('Recall : {0:0.4f}'.format(recall))\n",
    "f1score= 2*precision*recall/(precision+recall)\n",
    "print('f1score : {0:0.4f}'.format(f1score))\n",
    "\n",
    "print(classification_report(y_test, y_pred_test_dt_bl))"
   ]
  },
  {
   "cell_type": "markdown",
   "metadata": {},
   "source": [
    "Feature Selection by Feature Importance\n"
   ]
  },
  {
   "cell_type": "markdown",
   "metadata": {},
   "source": [
    "print(clf.feature_importances_)\n",
    "feat_importances = pd.Series(clf.feature_importances_, index=df.columns[df.columns != 'Churn?'])\n",
    "feat_importances.nlargest(10).plot(kind='barh')\n",
    "plt.show()\n",
    "\n",
    "##Feature Selection by Correlation Matrix\n",
    "fig = plt.figure(figsize=(10,10))\n",
    "corr = df.corr(method = 'pearson')\n",
    "# plot\n",
    "sns.heatmap(corr, vmax = 1, square = True)\n",
    "\n",
    "# Considering top 10 important features and correlation heatmap, we pick Day Charge, Eve Mins, Intl Calls, Int'l Plan, CustServ Calls, VMail Message, and Night Mins. \n",
    "# vnvvvfvccv  fgbg  ttttttt ttttt gBJJ\n",
    "feature_adv = df[[\"Day Charge\", \"Eve Mins\",\"Int'l Plan\", \"CustServ Calls\",\"Intl Calls\",\"Intl Mins\",\"VMail Plan\",\"Day Calls\"]]\n"
   ]
  },
  {
   "cell_type": "code",
   "execution_count": 678,
   "metadata": {},
   "outputs": [
    {
     "name": "stdout",
     "output_type": "stream",
     "text": [
      "[[527  43]\n",
      " [ 28  69]]\n",
      "TP:  69 , FP:  43 , TN:  527 , FN: 28\n",
      "Training-set accuracy score: 1.0000\n",
      "Model accuracy score: 0.8936\n",
      "Precision : 0.6161\n",
      "Recall : 0.7113\n",
      "f1score : 0.6603\n",
      "              precision    recall  f1-score   support\n",
      "\n",
      "           0       0.95      0.92      0.94       570\n",
      "           1       0.62      0.71      0.66        97\n",
      "\n",
      "    accuracy                           0.89       667\n",
      "   macro avg       0.78      0.82      0.80       667\n",
      "weighted avg       0.90      0.89      0.90       667\n",
      "\n"
     ]
    }
   ],
   "source": [
    "X_train_adv, X_test_adv, y_train_adv, y_test_adv = train_test_split(feature_adv, y, stratify=y, test_size=0.2,random_state = 1)\n",
    "\n",
    "\n",
    "clf_adv = tree.DecisionTreeClassifier()\n",
    "clf_adv = clf_adv.fit(X_train_adv, y_train_adv)\n",
    "\n",
    "fig = plt.figure(figsize=(25,20))\n",
    "decisiontree_baseline = tree.plot_tree(clf, \n",
    "                              feature_names = df.columns[df.columns != 'Churn?'], \n",
    "                              class_names= [\"0\", \"1\"],\n",
    "                              filled=True)\n",
    "plt.savefig(\"decistion_tree_advanced.pdf\")\n",
    "\n",
    "y_pred_train_dt_adv= clf_adv.predict(X_train_adv)\n",
    "y_pred_test_dt_adv= clf_adv.predict(X_test_adv)\n",
    "\n",
    "cf_adv = sk.metrics.confusion_matrix(y_test_adv, y_pred_test_dt_adv)\n",
    "print(cf_adv)\n",
    "tn_dt_adv, fp_dt_adv, fn_dt_adv, tp_dt_adv=cf_adv.ravel()\n",
    "print (\"TP: \", tp_dt_adv,\", FP: \", fp_dt_adv,\", TN: \", tn_dt_adv,\", FN:\", fn_dt_adv)\n",
    "\n",
    "print('Training-set accuracy score: {0:0.4f}'. format(accuracy_score(y_train_adv, y_pred_train_dt_adv)))\n",
    "print('Model accuracy score: {0:0.4f}'. format(accuracy_score(y_test_adv, y_pred_test_dt_adv)))\n",
    "precision_dt_adv = tp_dt_adv / float(tp_dt_adv + fp_dt_adv)\n",
    "print('Precision : {0:0.4f}'.format(precision_dt_adv))\n",
    "recall_dt_adv = tp_dt_adv / float(tp_dt_adv + fn_dt_adv)\n",
    "print('Recall : {0:0.4f}'.format(recall_dt_adv))\n",
    "f1score_dt_adv= 2*precision_dt_adv*recall_dt_adv/(precision_dt_adv+recall_dt_adv)\n",
    "print('f1score : {0:0.4f}'.format(f1score_dt_adv))\n",
    "\n",
    "print(classification_report(y_test_adv, y_pred_test_dt_adv))"
   ]
  },
  {
   "cell_type": "markdown",
   "metadata": {},
   "source": [
    "Develop Gaussian Naive Bayes Classification Model"
   ]
  },
  {
   "cell_type": "code",
   "execution_count": 709,
   "metadata": {},
   "outputs": [
    {
     "data": {
      "text/plain": [
       "((2666, 19), (2666,))"
      ]
     },
     "execution_count": 709,
     "metadata": {},
     "output_type": "execute_result"
    }
   ],
   "source": [
    "NBmodel = GaussianNB()\n",
    "NBmodel.fit(X_train, y_train)\n",
    "X_train.shape, y_train.shape\n",
    "\n",
    "# from sklearn.inspection import permutation_importance\n",
    "# imps = permutation_importance(NBmodel, X_test, y_test)\n",
    "# print(imps.importances_mean)\n"
   ]
  },
  {
   "cell_type": "code",
   "execution_count": 710,
   "metadata": {},
   "outputs": [],
   "source": [
    "y_pred_train_nb_bl = NBmodel.predict(X_train)\n",
    "y_pred_test_nb_bl = NBmodel.predict(X_test)"
   ]
  },
  {
   "cell_type": "code",
   "execution_count": 688,
   "metadata": {},
   "outputs": [
    {
     "name": "stdout",
     "output_type": "stream",
     "text": [
      "Training-set accuracy score: 0.8710\n",
      "Model accuracy score: 0.8501\n"
     ]
    }
   ],
   "source": [
    "print('Training-set accuracy score: {0:0.4f}'. format(accuracy_score(y_train, y_pred_train_nb_bl)))\n",
    "print('Model accuracy score: {0:0.4f}'. format(accuracy_score(y_test, y_pred_test_nb_bl)))"
   ]
  },
  {
   "cell_type": "code",
   "execution_count": 711,
   "metadata": {},
   "outputs": [
    {
     "name": "stdout",
     "output_type": "stream",
     "text": [
      "[[524  46]\n",
      " [ 54  43]]\n",
      "TP:  43 , FP:  46 , TN:  524 , FN: 54\n",
      "Training-set accuracy score: 0.8710\n",
      "Model accuracy score: 0.8501\n",
      "Precision : 0.4831\n",
      "Recall : 0.4433\n",
      "f1score : 0.4624\n",
      "              precision    recall  f1-score   support\n",
      "\n",
      "           0       0.91      0.92      0.91       570\n",
      "           1       0.48      0.44      0.46        97\n",
      "\n",
      "    accuracy                           0.85       667\n",
      "   macro avg       0.69      0.68      0.69       667\n",
      "weighted avg       0.84      0.85      0.85       667\n",
      "\n"
     ]
    }
   ],
   "source": [
    "cf_nb= sk.metrics.confusion_matrix(y_test, y_pred_test_nb_bl)\n",
    "print(cf_nb)\n",
    "tn_nb_bl, fp_nb_bl, fn_nb_bl, tp_nb_bl=cf_nb.ravel()\n",
    "\n",
    "print (\"TP: \", tp_nb_bl,\", FP: \", fp_nb_bl,\", TN: \", tn_nb_bl,\", FN:\", fn_nb_bl)\n",
    "print('Training-set accuracy score: {0:0.4f}'. format(accuracy_score(y_train, y_pred_train_nb_bl)))\n",
    "print('Model accuracy score: {0:0.4f}'. format(accuracy_score(y_test, y_pred_test_nb_bl)))\n",
    "precision_nb_bl = tp_nb_bl / float(tp_nb_bl + fp_nb_bl)\n",
    "print('Precision : {0:0.4f}'.format(precision_nb_bl))\n",
    "recall_dt_adv = tp_nb_bl / float(tp_nb_bl + fn_nb_bl)\n",
    "print('Recall : {0:0.4f}'.format(recall_nb_bl))\n",
    "f1score_dt_adv= 2*precision_nb_bl*recall_nb_bl/(precision_nb_bl+recall_nb_bl)\n",
    "print('f1score : {0:0.4f}'.format(f1score_nb_bl))\n",
    "\n",
    "print(classification_report(y_test, y_pred_test_nb_bl))"
   ]
  },
  {
   "cell_type": "code",
   "execution_count": 693,
   "metadata": {},
   "outputs": [
    {
     "name": "stdout",
     "output_type": "stream",
     "text": [
      "Null accuracy score: 0.8550\n"
     ]
    }
   ],
   "source": [
    "null_accuracy = (855/1000)\n",
    "\n",
    "print('Null accuracy score: {0:0.4f}'. format(null_accuracy))"
   ]
  },
  {
   "cell_type": "code",
   "execution_count": 694,
   "metadata": {},
   "outputs": [],
   "source": [
    "#The model accuracy is 0.85. But, we cannot say that our model is very good based on the above accuracy. We must compare it with the null accuracy. Null accuracy is the accuracy that could be achieved by always predicting the most frequent class.\n",
    "#We can see that the null accuracy score is 0.8550, very close to the model accuracy So, we can conclude that either Gaussian Naive Bayes Classification model\n",
    "#is not doing a good job in predicting the class labels, or accuracy is not a good measure in this case.\n",
    "#Considering the imbalanceness in calss labels in the dataset, we choose to use recall and precision to evaluate data instead.\n"
   ]
  },
  {
   "cell_type": "code",
   "execution_count": 697,
   "metadata": {},
   "outputs": [],
   "source": [
    "#f1-score is the weighted harmonic mean of precision and recall. The best possible f1-score would be 1.0 and the worst would be 0.0. f1-score is the harmonic mean of precision and recall. So, f1-score is always lower than accuracy measures as they embed precision and recall into their computation. The weighted average of f1-score should be used to compare classifier models, not global accuracy."
   ]
  },
  {
   "cell_type": "code",
   "execution_count": 715,
   "metadata": {},
   "outputs": [
    {
     "name": "stdout",
     "output_type": "stream",
     "text": [
      "Training-set accuracy score: 0.8496\n",
      "Model accuracy score: 0.8441\n",
      "[[524  46]\n",
      " [ 58  39]]\n",
      "TP:  43 , FP:  46 , TN:  524 , FN: 54\n",
      "Training-set accuracy score: 0.8496\n",
      "Model accuracy score: 0.8441\n",
      "Precision : 0.4831\n",
      "Recall : 0.4433\n",
      "f1score : 0.4624\n",
      "              precision    recall  f1-score   support\n",
      "\n",
      "           0       0.90      0.92      0.91       570\n",
      "           1       0.46      0.40      0.43        97\n",
      "\n",
      "    accuracy                           0.84       667\n",
      "   macro avg       0.68      0.66      0.67       667\n",
      "weighted avg       0.84      0.84      0.84       667\n",
      "\n"
     ]
    }
   ],
   "source": [
    "NBmodel_adv = GaussianNB()\n",
    "NBmodel_adv.fit(X_train_adv, y_train_adv)\n",
    "\n",
    "y_pred_train_nb_adv = NBmodel_adv.predict(X_train_adv)\n",
    "y_pred_test_nb_adv = NBmodel_adv.predict(X_test_adv)\n",
    "y_pred_train_nb_adv\n",
    "y_pred_test_nb_adv\n",
    "\n",
    "print('Training-set accuracy score: {0:0.4f}'. format(accuracy_score(y_train_adv, y_pred_train_nb_adv)))\n",
    "print('Model accuracy score: {0:0.4f}'. format(accuracy_score(y_test_adv, y_pred_test_nb_adv)))\n",
    "\n",
    "cf_nb_adv= sk.metrics.confusion_matrix(y_test_adv, y_pred_test_nb_adv)\n",
    "print(cf_nb_adv)\n",
    "tn_nb_adv, fp_nb_adv, fn_nb_adv, tp_nb_adv=cf_nb.ravel()\n",
    "print (\"TP: \", tp_nb_adv,\", FP: \", fp_nb_adv,\", TN: \", tn_nb_adv,\", FN:\", fn_nb_adv)\n",
    "\n",
    "print('Training-set accuracy score: {0:0.4f}'. format(accuracy_score(y_train, y_pred_train_nb_adv)))\n",
    "print('Model accuracy score: {0:0.4f}'. format(accuracy_score(y_test, y_pred_test_nb_adv)))\n",
    "\n",
    "precision_nb_adv = tp_nb_adv / float(tp_nb_adv + fp_nb_adv )\n",
    "print('Precision : {0:0.4f}'.format(precision_nb_adv))\n",
    "recall_nb_adv = tp_nb_adv / float(tp_nb_adv + fn_nb_adv)\n",
    "print('Recall : {0:0.4f}'.format(recall_nb_adv))\n",
    "f1score_nb_adv= 2*precision_nb_adv*recall_nb_adv/(precision_nb_adv+recall_nb_adv)\n",
    "print('f1score : {0:0.4f}'.format(f1score_nb_adv))\n",
    "\n",
    "\n",
    "print(classification_report(y_test_adv, y_pred_test_nb_adv))"
   ]
  },
  {
   "cell_type": "code",
   "execution_count": null,
   "metadata": {},
   "outputs": [],
   "source": []
  }
 ],
 "metadata": {
  "kernelspec": {
   "display_name": "Python 3",
   "language": "python",
   "name": "python3"
  },
  "language_info": {
   "codemirror_mode": {
    "name": "ipython",
    "version": 3
   },
   "file_extension": ".py",
   "mimetype": "text/x-python",
   "name": "python",
   "nbconvert_exporter": "python",
   "pygments_lexer": "ipython3",
   "version": "3.7.3"
  }
 },
 "nbformat": 4,
 "nbformat_minor": 2
}
